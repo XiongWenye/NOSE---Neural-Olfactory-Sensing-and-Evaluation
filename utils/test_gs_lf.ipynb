{
 "cells": [
  {
   "cell_type": "code",
   "execution_count": 6,
   "id": "25394709-a9f9-4940-a11c-b98442702457",
   "metadata": {},
   "source": [
    "from gs_lf import *\n",
    "import pandas as pd"
   ],
   "outputs": []
  },
  {
   "cell_type": "code",
   "execution_count": 4,
   "id": "77a22512-7a42-4e80-a30d-29aef367e1e1",
   "metadata": {},
   "source": [
    "TASKS = [\n",
    "'alcoholic', 'aldehydic', 'alliaceous', 'almond', 'amber', 'animal',\n",
    "'anisic', 'apple', 'apricot', 'aromatic', 'balsamic', 'banana', 'beefy',\n",
    "'bergamot', 'berry', 'bitter', 'black currant', 'brandy', 'burnt',\n",
    "'buttery', 'cabbage', 'camphoreous', 'caramellic', 'cedar', 'celery',\n",
    "'chamomile', 'cheesy', 'cherry', 'chocolate', 'cinnamon', 'citrus', 'clean',\n",
    "'clove', 'cocoa', 'coconut', 'coffee', 'cognac', 'cooked', 'cooling',\n",
    "'cortex', 'coumarinic', 'creamy', 'cucumber', 'dairy', 'dry', 'earthy',\n",
    "'ethereal', 'fatty', 'fermented', 'fishy', 'floral', 'fresh', 'fruit skin',\n",
    "'fruity', 'garlic', 'gassy', 'geranium', 'grape', 'grapefruit', 'grassy',\n",
    "'green', 'hawthorn', 'hay', 'hazelnut', 'herbal', 'honey', 'hyacinth',\n",
    "'jasmin', 'juicy', 'ketonic', 'lactonic', 'lavender', 'leafy', 'leathery',\n",
    "'lemon', 'lily', 'malty', 'meaty', 'medicinal', 'melon', 'metallic',\n",
    "'milky', 'mint', 'muguet', 'mushroom', 'musk', 'musty', 'natural', 'nutty',\n",
    "'odorless', 'oily', 'onion', 'orange', 'orangeflower', 'orris', 'ozone',\n",
    "'peach', 'pear', 'phenolic', 'pine', 'pineapple', 'plum', 'popcorn',\n",
    "'potato', 'powdery', 'pungent', 'radish', 'raspberry', 'ripe', 'roasted',\n",
    "'rose', 'rummy', 'sandalwood', 'savory', 'sharp', 'smoky', 'soapy',\n",
    "'solvent', 'sour', 'spicy', 'strawberry', 'sulfurous', 'sweaty', 'sweet',\n",
    "'tea', 'terpenic', 'tobacco', 'tomato', 'tropical', 'vanilla', 'vegetable',\n",
    "'vetiver', 'violet', 'warm', 'waxy', 'weedy', 'winey', 'woody'\n",
    "]\n",
    "print(\"No of tasks: \", len(TASKS))"
   ],
   "outputs": []
  },
  {
   "cell_type": "code",
   "execution_count": 7,
   "id": "c6dc4e21-0748-40a0-94cc-e9a3bc647cdd",
   "metadata": {},
   "source": [
    "input_file = '/local_storage/datasets/farzaneh/openpom/data/curated_datasets/curated_GS_LF_merged_4983.csv' # or new downloaded file path\n",
    "df = pd.read_csv(input_file)\n",
    "df['y'] = df[TASKS].apply(pom_onehot_to_array, axis=1)"
   ],
   "outputs": []
  },
  {
   "cell_type": "code",
   "execution_count": 8,
   "id": "79577d34-b2bc-4f33-a686-57c5deb24af1",
   "metadata": {},
   "source": [
    "tasks=[\"savory\",\"beefy\",\"roasted\",\"muguet\",\"lavender\",\"jasmin\",\"cognac\",\"fermented\",\"alcoholic\"]\n"
   ],
   "outputs": []
  },
  {
   "cell_type": "code",
   "execution_count": 10,
   "id": "440d6fd7-a98a-4194-a33d-8d37e683a866",
   "metadata": {},
   "source": [
    "tasks_idx =pom_task_index_by_label(tasks,TASKS)\n",
    "tasks_idx"
   ],
   "outputs": []
  },
  {
   "cell_type": "code",
   "execution_count": 13,
   "id": "5b69c933-a1f5-4faf-ad35-6c1bc9e3b4ed",
   "metadata": {},
   "source": [
    "np.stack(subset_df['y'].to_numpy()).shape"
   ],
   "outputs": []
  },
  {
   "cell_type": "code",
   "execution_count": 15,
   "id": "4968b5e3-fbd8-47b6-abb2-5590537d2ad0",
   "metadata": {},
   "source": [
    "subset_df = pom_get_dataIds_by_tasks(df, tasks_idx)\n",
    "# subset_df=pom_keep_only_label(subset_df,tasks_idx)\n",
    "np.stack(subset_df['y'].to_numpy()).shape"
   ],
   "outputs": []
  },
  {
   "cell_type": "code",
   "execution_count": 21,
   "id": "c137ef61-333b-4fa5-a297-cf347ebcd733",
   "metadata": {},
   "source": [],
   "outputs": []
  },
  {
   "cell_type": "code",
   "execution_count": 28,
   "id": "fe5863ad-828b-48a5-bebf-71dbaacb2954",
   "metadata": {},
   "source": [
    "zero_mask = subset_df.copy()  # Create a copy of the input DataFrame\n",
    "zero_mask['y'] = zero_mask['y'].apply(lambda arr: [1 if idx in tasks_idx and arr[idx] else 0 for idx in range(len(arr))])"
   ],
   "outputs": []
  },
  {
   "cell_type": "code",
   "execution_count": 29,
   "id": "36b1d457-bec8-419f-92db-f3eda5416603",
   "metadata": {},
   "source": [
    "np.stack(zero_mask['y'].to_numpy()).shape"
   ],
   "outputs": []
  },
  {
   "cell_type": "code",
   "execution_count": null,
   "id": "e7cc0e50-77a7-4717-b6c9-1355224873ab",
   "metadata": {},
   "source": [],
   "outputs": []
  }
 ],
 "metadata": {
  "kernelspec": {
   "display_name": "Python 3 (ipykernel)",
   "language": "python",
   "name": "python3"
  },
  "language_info": {
   "codemirror_mode": {
    "name": "ipython",
    "version": 3
   },
   "file_extension": ".py",
   "mimetype": "text/x-python",
   "name": "python",
   "nbconvert_exporter": "python",
   "pygments_lexer": "ipython3",
   "version": "3.8.18"
  }
 },
 "nbformat": 4,
 "nbformat_minor": 5
}
